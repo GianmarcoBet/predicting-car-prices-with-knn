{
 "cells": [
  {
   "cell_type": "markdown",
   "metadata": {
    "collapsed": true
   },
   "source": [
    "# Predicting car prices with K-Nearest Neighbors\n",
    "\n",
    "In this small project, we will practice the scikit-learn workflow. We will build an [instance-based](https://en.wikipedia.org/wiki/Instance-based_learning) model to predict car prices based on the dataset found [here](https://archive.ics.uci.edu/ml/datasets/automobile) at the Machine Learning Repository. More specifically, we will train a K-Nearest Neighbors (KNN) model and validate it by using cross validation.\n",
    "\n",
    "First, we load the dataframe with the correct column names. We also determined which columns are numeric and thus can be used as features."
   ]
  },
  {
   "cell_type": "code",
   "execution_count": 1,
   "metadata": {
    "collapsed": false
   },
   "outputs": [],
   "source": [
    "%matplotlib inline\n",
    "import pandas as pd\n",
    "import numpy as np\n",
    "\n",
    "col_names = ['symboling', 'normalized_losses', 'make', 'fuel_type', 'aspiration', 'num_doors', 'body_style', 'drive_wheels', 'engine_location', 'wheel_base', 'length', 'width', 'height', 'curb_weight', 'engine_type', 'num_cylinders', 'engine_size', 'fuel_system', 'bore', 'stroke', 'compression_ratio', 'horsepower', 'peak_rpm', 'city_mpg', 'highway_mpg', 'price']\n",
    "data = pd.read_csv('imports-85.data', header = None, names=col_names)"
   ]
  },
  {
   "cell_type": "code",
   "execution_count": 2,
   "metadata": {
    "collapsed": false
   },
   "outputs": [
    {
     "name": "stdout",
     "output_type": "stream",
     "text": [
      "<class 'pandas.core.frame.DataFrame'>\n",
      "RangeIndex: 205 entries, 0 to 204\n",
      "Data columns (total 26 columns):\n",
      "symboling            205 non-null int64\n",
      "normalized_losses    205 non-null object\n",
      "make                 205 non-null object\n",
      "fuel_type            205 non-null object\n",
      "aspiration           205 non-null object\n",
      "num_doors            205 non-null object\n",
      "body_style           205 non-null object\n",
      "drive_wheels         205 non-null object\n",
      "engine_location      205 non-null object\n",
      "wheel_base           205 non-null float64\n",
      "length               205 non-null float64\n",
      "width                205 non-null float64\n",
      "height               205 non-null float64\n",
      "curb_weight          205 non-null int64\n",
      "engine_type          205 non-null object\n",
      "num_cylinders        205 non-null object\n",
      "engine_size          205 non-null int64\n",
      "fuel_system          205 non-null object\n",
      "bore                 205 non-null object\n",
      "stroke               205 non-null object\n",
      "compression_ratio    205 non-null float64\n",
      "horsepower           205 non-null object\n",
      "peak_rpm             205 non-null object\n",
      "city_mpg             205 non-null int64\n",
      "highway_mpg          205 non-null int64\n",
      "price                205 non-null object\n",
      "dtypes: float64(5), int64(5), object(16)\n",
      "memory usage: 41.7+ KB\n"
     ]
    }
   ],
   "source": [
    "data.info()"
   ]
  },
  {
   "cell_type": "code",
   "execution_count": 3,
   "metadata": {
    "collapsed": true
   },
   "outputs": [],
   "source": [
    "possible_features = ['symboling', 'normalized_losses', 'num_doors', 'wheel_base', 'length', 'width', 'height', 'curb_weight', 'num_cylinders', 'engine_size', 'bore', 'stroke', 'compression_ratio', 'horsepower', 'peak_rpm', 'city_mpg', 'highway_mpg']"
   ]
  },
  {
   "cell_type": "code",
   "execution_count": 4,
   "metadata": {
    "collapsed": false
   },
   "outputs": [
    {
     "data": {
      "text/html": [
       "<div>\n",
       "<style scoped>\n",
       "    .dataframe tbody tr th:only-of-type {\n",
       "        vertical-align: middle;\n",
       "    }\n",
       "\n",
       "    .dataframe tbody tr th {\n",
       "        vertical-align: top;\n",
       "    }\n",
       "\n",
       "    .dataframe thead th {\n",
       "        text-align: right;\n",
       "    }\n",
       "</style>\n",
       "<table border=\"1\" class=\"dataframe\">\n",
       "  <thead>\n",
       "    <tr style=\"text-align: right;\">\n",
       "      <th></th>\n",
       "      <th>symboling</th>\n",
       "      <th>normalized_losses</th>\n",
       "      <th>make</th>\n",
       "      <th>fuel_type</th>\n",
       "      <th>aspiration</th>\n",
       "      <th>num_doors</th>\n",
       "      <th>body_style</th>\n",
       "      <th>drive_wheels</th>\n",
       "      <th>engine_location</th>\n",
       "      <th>wheel_base</th>\n",
       "      <th>...</th>\n",
       "      <th>engine_size</th>\n",
       "      <th>fuel_system</th>\n",
       "      <th>bore</th>\n",
       "      <th>stroke</th>\n",
       "      <th>compression_ratio</th>\n",
       "      <th>horsepower</th>\n",
       "      <th>peak_rpm</th>\n",
       "      <th>city_mpg</th>\n",
       "      <th>highway_mpg</th>\n",
       "      <th>price</th>\n",
       "    </tr>\n",
       "  </thead>\n",
       "  <tbody>\n",
       "    <tr>\n",
       "      <th>0</th>\n",
       "      <td>3</td>\n",
       "      <td>?</td>\n",
       "      <td>alfa-romero</td>\n",
       "      <td>gas</td>\n",
       "      <td>std</td>\n",
       "      <td>two</td>\n",
       "      <td>convertible</td>\n",
       "      <td>rwd</td>\n",
       "      <td>front</td>\n",
       "      <td>88.6</td>\n",
       "      <td>...</td>\n",
       "      <td>130</td>\n",
       "      <td>mpfi</td>\n",
       "      <td>3.47</td>\n",
       "      <td>2.68</td>\n",
       "      <td>9.0</td>\n",
       "      <td>111</td>\n",
       "      <td>5000</td>\n",
       "      <td>21</td>\n",
       "      <td>27</td>\n",
       "      <td>13495</td>\n",
       "    </tr>\n",
       "    <tr>\n",
       "      <th>1</th>\n",
       "      <td>3</td>\n",
       "      <td>?</td>\n",
       "      <td>alfa-romero</td>\n",
       "      <td>gas</td>\n",
       "      <td>std</td>\n",
       "      <td>two</td>\n",
       "      <td>convertible</td>\n",
       "      <td>rwd</td>\n",
       "      <td>front</td>\n",
       "      <td>88.6</td>\n",
       "      <td>...</td>\n",
       "      <td>130</td>\n",
       "      <td>mpfi</td>\n",
       "      <td>3.47</td>\n",
       "      <td>2.68</td>\n",
       "      <td>9.0</td>\n",
       "      <td>111</td>\n",
       "      <td>5000</td>\n",
       "      <td>21</td>\n",
       "      <td>27</td>\n",
       "      <td>16500</td>\n",
       "    </tr>\n",
       "    <tr>\n",
       "      <th>2</th>\n",
       "      <td>1</td>\n",
       "      <td>?</td>\n",
       "      <td>alfa-romero</td>\n",
       "      <td>gas</td>\n",
       "      <td>std</td>\n",
       "      <td>two</td>\n",
       "      <td>hatchback</td>\n",
       "      <td>rwd</td>\n",
       "      <td>front</td>\n",
       "      <td>94.5</td>\n",
       "      <td>...</td>\n",
       "      <td>152</td>\n",
       "      <td>mpfi</td>\n",
       "      <td>2.68</td>\n",
       "      <td>3.47</td>\n",
       "      <td>9.0</td>\n",
       "      <td>154</td>\n",
       "      <td>5000</td>\n",
       "      <td>19</td>\n",
       "      <td>26</td>\n",
       "      <td>16500</td>\n",
       "    </tr>\n",
       "    <tr>\n",
       "      <th>3</th>\n",
       "      <td>2</td>\n",
       "      <td>164</td>\n",
       "      <td>audi</td>\n",
       "      <td>gas</td>\n",
       "      <td>std</td>\n",
       "      <td>four</td>\n",
       "      <td>sedan</td>\n",
       "      <td>fwd</td>\n",
       "      <td>front</td>\n",
       "      <td>99.8</td>\n",
       "      <td>...</td>\n",
       "      <td>109</td>\n",
       "      <td>mpfi</td>\n",
       "      <td>3.19</td>\n",
       "      <td>3.40</td>\n",
       "      <td>10.0</td>\n",
       "      <td>102</td>\n",
       "      <td>5500</td>\n",
       "      <td>24</td>\n",
       "      <td>30</td>\n",
       "      <td>13950</td>\n",
       "    </tr>\n",
       "    <tr>\n",
       "      <th>4</th>\n",
       "      <td>2</td>\n",
       "      <td>164</td>\n",
       "      <td>audi</td>\n",
       "      <td>gas</td>\n",
       "      <td>std</td>\n",
       "      <td>four</td>\n",
       "      <td>sedan</td>\n",
       "      <td>4wd</td>\n",
       "      <td>front</td>\n",
       "      <td>99.4</td>\n",
       "      <td>...</td>\n",
       "      <td>136</td>\n",
       "      <td>mpfi</td>\n",
       "      <td>3.19</td>\n",
       "      <td>3.40</td>\n",
       "      <td>8.0</td>\n",
       "      <td>115</td>\n",
       "      <td>5500</td>\n",
       "      <td>18</td>\n",
       "      <td>22</td>\n",
       "      <td>17450</td>\n",
       "    </tr>\n",
       "  </tbody>\n",
       "</table>\n",
       "<p>5 rows × 26 columns</p>\n",
       "</div>"
      ],
      "text/plain": [
       "   symboling normalized_losses         make fuel_type aspiration num_doors  \\\n",
       "0          3                 ?  alfa-romero       gas        std       two   \n",
       "1          3                 ?  alfa-romero       gas        std       two   \n",
       "2          1                 ?  alfa-romero       gas        std       two   \n",
       "3          2               164         audi       gas        std      four   \n",
       "4          2               164         audi       gas        std      four   \n",
       "\n",
       "    body_style drive_wheels engine_location  wheel_base  ...    engine_size  \\\n",
       "0  convertible          rwd           front        88.6  ...            130   \n",
       "1  convertible          rwd           front        88.6  ...            130   \n",
       "2    hatchback          rwd           front        94.5  ...            152   \n",
       "3        sedan          fwd           front        99.8  ...            109   \n",
       "4        sedan          4wd           front        99.4  ...            136   \n",
       "\n",
       "   fuel_system  bore  stroke compression_ratio horsepower  peak_rpm city_mpg  \\\n",
       "0         mpfi  3.47    2.68               9.0        111      5000       21   \n",
       "1         mpfi  3.47    2.68               9.0        111      5000       21   \n",
       "2         mpfi  2.68    3.47               9.0        154      5000       19   \n",
       "3         mpfi  3.19    3.40              10.0        102      5500       24   \n",
       "4         mpfi  3.19    3.40               8.0        115      5500       18   \n",
       "\n",
       "  highway_mpg  price  \n",
       "0          27  13495  \n",
       "1          27  16500  \n",
       "2          26  16500  \n",
       "3          30  13950  \n",
       "4          22  17450  \n",
       "\n",
       "[5 rows x 26 columns]"
      ]
     },
     "execution_count": 4,
     "metadata": {},
     "output_type": "execute_result"
    }
   ],
   "source": [
    "data.head()"
   ]
  },
  {
   "cell_type": "markdown",
   "metadata": {},
   "source": [
    "## Exploratory data analysis and cleaning\n",
    "\n",
    "The KNN model cannot deal with missing values, so we deal with those next. We will look for missing values and either replace them or remove the corresponding rows, depending on how many missing values are there. More precisely, if there are only a few missing values, we will remove the corresponding rows, but if there are many, we will have to think of other strategies.\n",
    "\n",
    "Columns containing the '?' string where automatically cast as the object type. We will convert to numeric type where appropriate."
   ]
  },
  {
   "cell_type": "code",
   "execution_count": 5,
   "metadata": {
    "collapsed": true
   },
   "outputs": [],
   "source": [
    "data.replace(to_replace='?', value=np.nan, inplace=True)"
   ]
  },
  {
   "cell_type": "code",
   "execution_count": 6,
   "metadata": {
    "collapsed": false
   },
   "outputs": [],
   "source": [
    "data['normalized_losses'] = data['normalized_losses'].astype(float)\n",
    "data['bore'] = data['bore'].astype(float)\n",
    "data['stroke'] = data['stroke'].astype(float)\n",
    "data['horsepower'] = data['horsepower'].astype(float)\n",
    "data['peak_rpm'] = data['peak_rpm'].astype(float)\n",
    "data['price'] = data['price'].astype(float)"
   ]
  },
  {
   "cell_type": "code",
   "execution_count": 7,
   "metadata": {
    "collapsed": false
   },
   "outputs": [],
   "source": [
    "def analyze_nans(col_name):\n",
    "    nr_nans = sum(data[col_name].isna())\n",
    "    nr_rows = len(data[col_name])\n",
    "    percent = nr_nans / nr_rows\n",
    "    \n",
    "    print('Number of NaNs in {0} column: {1}\\nNumber of rows: {2}\\nPercentage of NaN rows in {0} column: {3}'.format(col_name,nr_nans, nr_rows,percent))"
   ]
  },
  {
   "cell_type": "code",
   "execution_count": 8,
   "metadata": {
    "collapsed": false
   },
   "outputs": [
    {
     "name": "stdout",
     "output_type": "stream",
     "text": [
      "Number of NaNs in normalized_losses column: 41\n",
      "Number of rows: 205\n",
      "Percentage of NaN rows in normalized_losses column: 0.2\n"
     ]
    }
   ],
   "source": [
    "analyze_nans('normalized_losses')"
   ]
  },
  {
   "cell_type": "code",
   "execution_count": 9,
   "metadata": {
    "collapsed": false
   },
   "outputs": [
    {
     "data": {
      "text/plain": [
       "<matplotlib.axes._subplots.AxesSubplot at 0x7f5f7634ea20>"
      ]
     },
     "execution_count": 9,
     "metadata": {},
     "output_type": "execute_result"
    },
    {
     "data": {
      "image/png": "[encoded data removed]",
      "text/plain": [
       "<matplotlib.figure.Figure at 0x7f5f019eb668>"
      ]
     },
     "metadata": {},
     "output_type": "display_data"
    }
   ],
   "source": [
    "data['normalized_losses'].plot.box()"
   ]
  },
  {
   "cell_type": "markdown",
   "metadata": {},
   "source": [
    "The data in the _normalized_\\__losses_ column is not highly concentrated around its mean, so replacing the missing values with the column mean would alter the column statistics considerably. Thus, we opt for dropping the column."
   ]
  },
  {
   "cell_type": "code",
   "execution_count": 10,
   "metadata": {
    "collapsed": false
   },
   "outputs": [
    {
     "data": {
      "text/plain": [
       "Index(['symboling', 'make', 'fuel_type', 'aspiration', 'num_doors',\n",
       "       'body_style', 'drive_wheels', 'engine_location', 'wheel_base', 'length',\n",
       "       'width', 'height', 'curb_weight', 'engine_type', 'num_cylinders',\n",
       "       'engine_size', 'fuel_system', 'bore', 'stroke', 'compression_ratio',\n",
       "       'horsepower', 'peak_rpm', 'city_mpg', 'highway_mpg', 'price'],\n",
       "      dtype='object')"
      ]
     },
     "execution_count": 10,
     "metadata": {},
     "output_type": "execute_result"
    }
   ],
   "source": [
    "data.drop('normalized_losses', axis=1, inplace=True, errors='ignore')\n",
    "possible_features.remove('normalized_losses')\n",
    "data.columns"
   ]
  },
  {
   "cell_type": "markdown",
   "metadata": {},
   "source": [
    "Next we look for NaNs in the _bore_ and _stroke_ columns."
   ]
  },
  {
   "cell_type": "code",
   "execution_count": 11,
   "metadata": {
    "collapsed": false
   },
   "outputs": [
    {
     "name": "stdout",
     "output_type": "stream",
     "text": [
      "Number of NaNs in bore column: 4\n",
      "Number of rows: 205\n",
      "Percentage of NaN rows in bore column: 0.01951219512195122\n"
     ]
    }
   ],
   "source": [
    "analyze_nans('bore')"
   ]
  },
  {
   "cell_type": "code",
   "execution_count": 12,
   "metadata": {
    "collapsed": false
   },
   "outputs": [
    {
     "name": "stdout",
     "output_type": "stream",
     "text": [
      "Number of NaNs in stroke column: 4\n",
      "Number of rows: 205\n",
      "Percentage of NaN rows in stroke column: 0.01951219512195122\n"
     ]
    }
   ],
   "source": [
    "analyze_nans('stroke')"
   ]
  },
  {
   "cell_type": "code",
   "execution_count": 13,
   "metadata": {
    "collapsed": false
   },
   "outputs": [
    {
     "data": {
      "text/html": [
       "<div>\n",
       "<style scoped>\n",
       "    .dataframe tbody tr th:only-of-type {\n",
       "        vertical-align: middle;\n",
       "    }\n",
       "\n",
       "    .dataframe tbody tr th {\n",
       "        vertical-align: top;\n",
       "    }\n",
       "\n",
       "    .dataframe thead th {\n",
       "        text-align: right;\n",
       "    }\n",
       "</style>\n",
       "<table border=\"1\" class=\"dataframe\">\n",
       "  <thead>\n",
       "    <tr style=\"text-align: right;\">\n",
       "      <th></th>\n",
       "      <th>stroke</th>\n",
       "      <th>bore</th>\n",
       "    </tr>\n",
       "  </thead>\n",
       "  <tbody>\n",
       "    <tr>\n",
       "      <th>55</th>\n",
       "      <td>NaN</td>\n",
       "      <td>NaN</td>\n",
       "    </tr>\n",
       "    <tr>\n",
       "      <th>56</th>\n",
       "      <td>NaN</td>\n",
       "      <td>NaN</td>\n",
       "    </tr>\n",
       "    <tr>\n",
       "      <th>57</th>\n",
       "      <td>NaN</td>\n",
       "      <td>NaN</td>\n",
       "    </tr>\n",
       "    <tr>\n",
       "      <th>58</th>\n",
       "      <td>NaN</td>\n",
       "      <td>NaN</td>\n",
       "    </tr>\n",
       "  </tbody>\n",
       "</table>\n",
       "</div>"
      ],
      "text/plain": [
       "    stroke  bore\n",
       "55     NaN   NaN\n",
       "56     NaN   NaN\n",
       "57     NaN   NaN\n",
       "58     NaN   NaN"
      ]
     },
     "execution_count": 13,
     "metadata": {},
     "output_type": "execute_result"
    }
   ],
   "source": [
    "data.loc[data['stroke'].isna(), ['stroke', 'bore']]"
   ]
  },
  {
   "cell_type": "markdown",
   "metadata": {},
   "source": [
    "We can safely drop these four rows since they share NaNs both for the _stroke_ and _bore_ columns."
   ]
  },
  {
   "cell_type": "code",
   "execution_count": 14,
   "metadata": {
    "collapsed": false
   },
   "outputs": [
    {
     "name": "stdout",
     "output_type": "stream",
     "text": [
      "Number of NaNs in stroke column: 0\n",
      "Number of rows: 201\n",
      "Percentage of NaN rows in stroke column: 0.0\n",
      "Number of NaNs in bore column: 0\n",
      "Number of rows: 201\n",
      "Percentage of NaN rows in bore column: 0.0\n"
     ]
    }
   ],
   "source": [
    "data.dropna(subset=['stroke', 'bore'], inplace=True)\n",
    "analyze_nans('stroke')\n",
    "analyze_nans('bore')"
   ]
  },
  {
   "cell_type": "markdown",
   "metadata": {},
   "source": [
    "Next we look for NaNs in the _horsepower_ and _peak_\\__rpm_ columns."
   ]
  },
  {
   "cell_type": "code",
   "execution_count": 15,
   "metadata": {
    "collapsed": false
   },
   "outputs": [
    {
     "name": "stdout",
     "output_type": "stream",
     "text": [
      "Number of NaNs in horsepower column: 2\n",
      "Number of rows: 201\n",
      "Percentage of NaN rows in horsepower column: 0.009950248756218905\n"
     ]
    }
   ],
   "source": [
    "analyze_nans('horsepower')"
   ]
  },
  {
   "cell_type": "code",
   "execution_count": 16,
   "metadata": {
    "collapsed": false
   },
   "outputs": [
    {
     "name": "stdout",
     "output_type": "stream",
     "text": [
      "Number of NaNs in peak_rpm column: 2\n",
      "Number of rows: 201\n",
      "Percentage of NaN rows in peak_rpm column: 0.009950248756218905\n"
     ]
    }
   ],
   "source": [
    "analyze_nans('peak_rpm')"
   ]
  },
  {
   "cell_type": "code",
   "execution_count": 17,
   "metadata": {
    "collapsed": false
   },
   "outputs": [
    {
     "data": {
      "text/html": [
       "<div>\n",
       "<style scoped>\n",
       "    .dataframe tbody tr th:only-of-type {\n",
       "        vertical-align: middle;\n",
       "    }\n",
       "\n",
       "    .dataframe tbody tr th {\n",
       "        vertical-align: top;\n",
       "    }\n",
       "\n",
       "    .dataframe thead th {\n",
       "        text-align: right;\n",
       "    }\n",
       "</style>\n",
       "<table border=\"1\" class=\"dataframe\">\n",
       "  <thead>\n",
       "    <tr style=\"text-align: right;\">\n",
       "      <th></th>\n",
       "      <th>horsepower</th>\n",
       "      <th>peak_rpm</th>\n",
       "    </tr>\n",
       "  </thead>\n",
       "  <tbody>\n",
       "    <tr>\n",
       "      <th>130</th>\n",
       "      <td>NaN</td>\n",
       "      <td>NaN</td>\n",
       "    </tr>\n",
       "    <tr>\n",
       "      <th>131</th>\n",
       "      <td>NaN</td>\n",
       "      <td>NaN</td>\n",
       "    </tr>\n",
       "  </tbody>\n",
       "</table>\n",
       "</div>"
      ],
      "text/plain": [
       "     horsepower  peak_rpm\n",
       "130         NaN       NaN\n",
       "131         NaN       NaN"
      ]
     },
     "execution_count": 17,
     "metadata": {},
     "output_type": "execute_result"
    }
   ],
   "source": [
    "data.loc[data['horsepower'].isna(), ['horsepower', 'peak_rpm']]"
   ]
  },
  {
   "cell_type": "markdown",
   "metadata": {},
   "source": [
    "Again, we can drop the two rows since they share NaNs for the _horsepower_ and _peak_\\__rpm_ columns."
   ]
  },
  {
   "cell_type": "code",
   "execution_count": 18,
   "metadata": {
    "collapsed": false
   },
   "outputs": [
    {
     "name": "stdout",
     "output_type": "stream",
     "text": [
      "Number of NaNs in horsepower column: 0\n",
      "Number of rows: 199\n",
      "Percentage of NaN rows in horsepower column: 0.0\n",
      "Number of NaNs in peak_rpm column: 0\n",
      "Number of rows: 199\n",
      "Percentage of NaN rows in peak_rpm column: 0.0\n"
     ]
    }
   ],
   "source": [
    "data.dropna(subset=['horsepower', 'peak_rpm'], inplace=True)\n",
    "analyze_nans('horsepower')\n",
    "analyze_nans('peak_rpm')"
   ]
  },
  {
   "cell_type": "markdown",
   "metadata": {},
   "source": [
    "Finally, we look for NaNs in the target column _price_."
   ]
  },
  {
   "cell_type": "code",
   "execution_count": 19,
   "metadata": {
    "collapsed": false
   },
   "outputs": [
    {
     "name": "stdout",
     "output_type": "stream",
     "text": [
      "Number of NaNs in price column: 4\n",
      "Number of rows: 199\n",
      "Percentage of NaN rows in price column: 0.020100502512562814\n"
     ]
    }
   ],
   "source": [
    "analyze_nans('price')"
   ]
  },
  {
   "cell_type": "code",
   "execution_count": 20,
   "metadata": {
    "collapsed": false
   },
   "outputs": [
    {
     "data": {
      "text/html": [
       "<div>\n",
       "<style scoped>\n",
       "    .dataframe tbody tr th:only-of-type {\n",
       "        vertical-align: middle;\n",
       "    }\n",
       "\n",
       "    .dataframe tbody tr th {\n",
       "        vertical-align: top;\n",
       "    }\n",
       "\n",
       "    .dataframe thead th {\n",
       "        text-align: right;\n",
       "    }\n",
       "</style>\n",
       "<table border=\"1\" class=\"dataframe\">\n",
       "  <thead>\n",
       "    <tr style=\"text-align: right;\">\n",
       "      <th></th>\n",
       "      <th>symboling</th>\n",
       "      <th>make</th>\n",
       "      <th>fuel_type</th>\n",
       "      <th>aspiration</th>\n",
       "      <th>num_doors</th>\n",
       "      <th>body_style</th>\n",
       "      <th>drive_wheels</th>\n",
       "      <th>engine_location</th>\n",
       "      <th>wheel_base</th>\n",
       "      <th>length</th>\n",
       "      <th>...</th>\n",
       "      <th>engine_size</th>\n",
       "      <th>fuel_system</th>\n",
       "      <th>bore</th>\n",
       "      <th>stroke</th>\n",
       "      <th>compression_ratio</th>\n",
       "      <th>horsepower</th>\n",
       "      <th>peak_rpm</th>\n",
       "      <th>city_mpg</th>\n",
       "      <th>highway_mpg</th>\n",
       "      <th>price</th>\n",
       "    </tr>\n",
       "  </thead>\n",
       "  <tbody>\n",
       "    <tr>\n",
       "      <th>9</th>\n",
       "      <td>0</td>\n",
       "      <td>audi</td>\n",
       "      <td>gas</td>\n",
       "      <td>turbo</td>\n",
       "      <td>two</td>\n",
       "      <td>hatchback</td>\n",
       "      <td>4wd</td>\n",
       "      <td>front</td>\n",
       "      <td>99.5</td>\n",
       "      <td>178.2</td>\n",
       "      <td>...</td>\n",
       "      <td>131</td>\n",
       "      <td>mpfi</td>\n",
       "      <td>3.13</td>\n",
       "      <td>3.40</td>\n",
       "      <td>7.0</td>\n",
       "      <td>160.0</td>\n",
       "      <td>5500.0</td>\n",
       "      <td>16</td>\n",
       "      <td>22</td>\n",
       "      <td>NaN</td>\n",
       "    </tr>\n",
       "    <tr>\n",
       "      <th>44</th>\n",
       "      <td>1</td>\n",
       "      <td>isuzu</td>\n",
       "      <td>gas</td>\n",
       "      <td>std</td>\n",
       "      <td>two</td>\n",
       "      <td>sedan</td>\n",
       "      <td>fwd</td>\n",
       "      <td>front</td>\n",
       "      <td>94.5</td>\n",
       "      <td>155.9</td>\n",
       "      <td>...</td>\n",
       "      <td>90</td>\n",
       "      <td>2bbl</td>\n",
       "      <td>3.03</td>\n",
       "      <td>3.11</td>\n",
       "      <td>9.6</td>\n",
       "      <td>70.0</td>\n",
       "      <td>5400.0</td>\n",
       "      <td>38</td>\n",
       "      <td>43</td>\n",
       "      <td>NaN</td>\n",
       "    </tr>\n",
       "    <tr>\n",
       "      <th>45</th>\n",
       "      <td>0</td>\n",
       "      <td>isuzu</td>\n",
       "      <td>gas</td>\n",
       "      <td>std</td>\n",
       "      <td>four</td>\n",
       "      <td>sedan</td>\n",
       "      <td>fwd</td>\n",
       "      <td>front</td>\n",
       "      <td>94.5</td>\n",
       "      <td>155.9</td>\n",
       "      <td>...</td>\n",
       "      <td>90</td>\n",
       "      <td>2bbl</td>\n",
       "      <td>3.03</td>\n",
       "      <td>3.11</td>\n",
       "      <td>9.6</td>\n",
       "      <td>70.0</td>\n",
       "      <td>5400.0</td>\n",
       "      <td>38</td>\n",
       "      <td>43</td>\n",
       "      <td>NaN</td>\n",
       "    </tr>\n",
       "    <tr>\n",
       "      <th>129</th>\n",
       "      <td>1</td>\n",
       "      <td>porsche</td>\n",
       "      <td>gas</td>\n",
       "      <td>std</td>\n",
       "      <td>two</td>\n",
       "      <td>hatchback</td>\n",
       "      <td>rwd</td>\n",
       "      <td>front</td>\n",
       "      <td>98.4</td>\n",
       "      <td>175.7</td>\n",
       "      <td>...</td>\n",
       "      <td>203</td>\n",
       "      <td>mpfi</td>\n",
       "      <td>3.94</td>\n",
       "      <td>3.11</td>\n",
       "      <td>10.0</td>\n",
       "      <td>288.0</td>\n",
       "      <td>5750.0</td>\n",
       "      <td>17</td>\n",
       "      <td>28</td>\n",
       "      <td>NaN</td>\n",
       "    </tr>\n",
       "  </tbody>\n",
       "</table>\n",
       "<p>4 rows × 25 columns</p>\n",
       "</div>"
      ],
      "text/plain": [
       "     symboling     make fuel_type aspiration num_doors body_style  \\\n",
       "9            0     audi       gas      turbo       two  hatchback   \n",
       "44           1    isuzu       gas        std       two      sedan   \n",
       "45           0    isuzu       gas        std      four      sedan   \n",
       "129          1  porsche       gas        std       two  hatchback   \n",
       "\n",
       "    drive_wheels engine_location  wheel_base  length  ...    engine_size  \\\n",
       "9            4wd           front        99.5   178.2  ...            131   \n",
       "44           fwd           front        94.5   155.9  ...             90   \n",
       "45           fwd           front        94.5   155.9  ...             90   \n",
       "129          rwd           front        98.4   175.7  ...            203   \n",
       "\n",
       "     fuel_system  bore stroke compression_ratio  horsepower peak_rpm  \\\n",
       "9           mpfi  3.13   3.40               7.0       160.0   5500.0   \n",
       "44          2bbl  3.03   3.11               9.6        70.0   5400.0   \n",
       "45          2bbl  3.03   3.11               9.6        70.0   5400.0   \n",
       "129         mpfi  3.94   3.11              10.0       288.0   5750.0   \n",
       "\n",
       "     city_mpg  highway_mpg  price  \n",
       "9          16           22    NaN  \n",
       "44         38           43    NaN  \n",
       "45         38           43    NaN  \n",
       "129        17           28    NaN  \n",
       "\n",
       "[4 rows x 25 columns]"
      ]
     },
     "execution_count": 20,
     "metadata": {},
     "output_type": "execute_result"
    }
   ],
   "source": [
    "data.loc[data['price'].isna(), :]"
   ]
  },
  {
   "cell_type": "markdown",
   "metadata": {},
   "source": [
    "We will also drop this rows, because without a target we cannot train or validate our model."
   ]
  },
  {
   "cell_type": "code",
   "execution_count": 21,
   "metadata": {
    "collapsed": true
   },
   "outputs": [],
   "source": [
    "data.dropna(subset=['price'], inplace=True)"
   ]
  },
  {
   "cell_type": "markdown",
   "metadata": {},
   "source": [
    "Next, we convert the _num_\\__doors_ and _num_\\__cylinders_ from string to numeric types and deal with their NaNs."
   ]
  },
  {
   "cell_type": "code",
   "execution_count": 22,
   "metadata": {
    "collapsed": true
   },
   "outputs": [],
   "source": [
    "number_map = {'one': 1, 'two': 2, 'three': 3, 'four': 4, 'five': 5, 'six': 6, 'seven': 7, 'eight': 8, 'nine': 9, 'ten': 10, 'eleven': 11, 'twelve': 12}"
   ]
  },
  {
   "cell_type": "code",
   "execution_count": 23,
   "metadata": {
    "collapsed": false
   },
   "outputs": [],
   "source": [
    "data['num_doors'] = data['num_doors'].map(number_map)\n",
    "data['num_cylinders'] = data['num_cylinders'].map(number_map)"
   ]
  },
  {
   "cell_type": "code",
   "execution_count": 28,
   "metadata": {
    "collapsed": false
   },
   "outputs": [
    {
     "name": "stdout",
     "output_type": "stream",
     "text": [
      "Number of NaNs in num_doors column: 2\n",
      "Number of rows: 195\n",
      "Percentage of NaN rows in num_doors column: 0.010256410256410256\n"
     ]
    }
   ],
   "source": [
    "analyze_nans('num_doors')"
   ]
  },
  {
   "cell_type": "code",
   "execution_count": 29,
   "metadata": {
    "collapsed": false
   },
   "outputs": [
    {
     "name": "stdout",
     "output_type": "stream",
     "text": [
      "Number of NaNs in num_cylinders column: 0\n",
      "Number of rows: 195\n",
      "Percentage of NaN rows in num_cylinders column: 0.0\n"
     ]
    }
   ],
   "source": [
    "analyze_nans('num_cylinders')"
   ]
  },
  {
   "cell_type": "code",
   "execution_count": 30,
   "metadata": {
    "collapsed": true
   },
   "outputs": [],
   "source": [
    "data.dropna(subset=['num_doors'], inplace=True)"
   ]
  },
  {
   "cell_type": "markdown",
   "metadata": {},
   "source": [
    "### Normalizing the numeric values\n",
    "\n",
    "Since the values in different columns have completely different ranges, we normalize them by centering on their mean and dividing by their standard deviation. In this way, each column will represent a distribution with zero mean and unitary standard deviation."
   ]
  },
  {
   "cell_type": "code",
   "execution_count": 34,
   "metadata": {
    "collapsed": false
   },
   "outputs": [
    {
     "name": "stdout",
     "output_type": "stream",
     "text": [
      "<class 'pandas.core.frame.DataFrame'>\n",
      "Int64Index: 193 entries, 0 to 204\n",
      "Data columns (total 16 columns):\n",
      "symboling            193 non-null float64\n",
      "num_doors            193 non-null float64\n",
      "wheel_base           193 non-null float64\n",
      "length               193 non-null float64\n",
      "width                193 non-null float64\n",
      "height               193 non-null float64\n",
      "curb_weight          193 non-null float64\n",
      "num_cylinders        193 non-null float64\n",
      "engine_size          193 non-null float64\n",
      "bore                 193 non-null float64\n",
      "stroke               193 non-null float64\n",
      "compression_ratio    193 non-null float64\n",
      "horsepower           193 non-null float64\n",
      "peak_rpm             193 non-null float64\n",
      "city_mpg             193 non-null float64\n",
      "highway_mpg          193 non-null float64\n",
      "dtypes: float64(16)\n",
      "memory usage: 25.6 KB\n"
     ]
    }
   ],
   "source": [
    "# Sanity check that all possible features are now numeric values\n",
    "data[possible_features].info()"
   ]
  },
  {
   "cell_type": "code",
   "execution_count": 35,
   "metadata": {
    "collapsed": true
   },
   "outputs": [],
   "source": [
    "# Subtract mean and divide by standard deviation\n",
    "data[possible_features] = (data[possible_features] - data[possible_features].mean()) / data[possible_features].std()"
   ]
  },
  {
   "cell_type": "code",
   "execution_count": 36,
   "metadata": {
    "collapsed": false
   },
   "outputs": [
    {
     "data": {
      "text/html": [
       "<div>\n",
       "<style scoped>\n",
       "    .dataframe tbody tr th:only-of-type {\n",
       "        vertical-align: middle;\n",
       "    }\n",
       "\n",
       "    .dataframe tbody tr th {\n",
       "        vertical-align: top;\n",
       "    }\n",
       "\n",
       "    .dataframe thead th {\n",
       "        text-align: right;\n",
       "    }\n",
       "</style>\n",
       "<table border=\"1\" class=\"dataframe\">\n",
       "  <thead>\n",
       "    <tr style=\"text-align: right;\">\n",
       "      <th></th>\n",
       "      <th>symboling</th>\n",
       "      <th>num_doors</th>\n",
       "      <th>wheel_base</th>\n",
       "      <th>length</th>\n",
       "      <th>width</th>\n",
       "      <th>height</th>\n",
       "      <th>curb_weight</th>\n",
       "      <th>num_cylinders</th>\n",
       "      <th>engine_size</th>\n",
       "      <th>bore</th>\n",
       "      <th>stroke</th>\n",
       "      <th>compression_ratio</th>\n",
       "      <th>horsepower</th>\n",
       "      <th>peak_rpm</th>\n",
       "      <th>city_mpg</th>\n",
       "      <th>highway_mpg</th>\n",
       "    </tr>\n",
       "  </thead>\n",
       "  <tbody>\n",
       "    <tr>\n",
       "      <th>0</th>\n",
       "      <td>1.782215</td>\n",
       "      <td>-1.172839</td>\n",
       "      <td>-1.678015</td>\n",
       "      <td>-0.442872</td>\n",
       "      <td>-0.839080</td>\n",
       "      <td>-2.117092</td>\n",
       "      <td>-0.025646</td>\n",
       "      <td>-0.410180</td>\n",
       "      <td>0.045098</td>\n",
       "      <td>0.511697</td>\n",
       "      <td>-1.803495</td>\n",
       "      <td>-0.287525</td>\n",
       "      <td>0.198054</td>\n",
       "      <td>-0.212806</td>\n",
       "      <td>-0.677292</td>\n",
       "      <td>-0.555613</td>\n",
       "    </tr>\n",
       "    <tr>\n",
       "      <th>1</th>\n",
       "      <td>1.782215</td>\n",
       "      <td>-1.172839</td>\n",
       "      <td>-1.678015</td>\n",
       "      <td>-0.442872</td>\n",
       "      <td>-0.839080</td>\n",
       "      <td>-2.117092</td>\n",
       "      <td>-0.025646</td>\n",
       "      <td>-0.410180</td>\n",
       "      <td>0.045098</td>\n",
       "      <td>0.511697</td>\n",
       "      <td>-1.803495</td>\n",
       "      <td>-0.287525</td>\n",
       "      <td>0.198054</td>\n",
       "      <td>-0.212806</td>\n",
       "      <td>-0.677292</td>\n",
       "      <td>-0.555613</td>\n",
       "    </tr>\n",
       "    <tr>\n",
       "      <th>2</th>\n",
       "      <td>0.163544</td>\n",
       "      <td>-1.172839</td>\n",
       "      <td>-0.719041</td>\n",
       "      <td>-0.250543</td>\n",
       "      <td>-0.184200</td>\n",
       "      <td>-0.613816</td>\n",
       "      <td>0.496473</td>\n",
       "      <td>1.544506</td>\n",
       "      <td>0.574066</td>\n",
       "      <td>-2.388614</td>\n",
       "      <td>0.701095</td>\n",
       "      <td>-0.287525</td>\n",
       "      <td>1.330822</td>\n",
       "      <td>-0.212806</td>\n",
       "      <td>-0.990387</td>\n",
       "      <td>-0.702307</td>\n",
       "    </tr>\n",
       "    <tr>\n",
       "      <th>3</th>\n",
       "      <td>0.972880</td>\n",
       "      <td>0.848214</td>\n",
       "      <td>0.142410</td>\n",
       "      <td>0.182198</td>\n",
       "      <td>0.143240</td>\n",
       "      <td>0.179580</td>\n",
       "      <td>-0.426254</td>\n",
       "      <td>-0.410180</td>\n",
       "      <td>-0.459826</td>\n",
       "      <td>-0.516262</td>\n",
       "      <td>0.479169</td>\n",
       "      <td>-0.036110</td>\n",
       "      <td>-0.039037</td>\n",
       "      <td>0.853987</td>\n",
       "      <td>-0.207649</td>\n",
       "      <td>-0.115531</td>\n",
       "    </tr>\n",
       "    <tr>\n",
       "      <th>4</th>\n",
       "      <td>0.972880</td>\n",
       "      <td>0.848214</td>\n",
       "      <td>0.077395</td>\n",
       "      <td>0.182198</td>\n",
       "      <td>0.236794</td>\n",
       "      <td>0.179580</td>\n",
       "      <td>0.498371</td>\n",
       "      <td>0.567163</td>\n",
       "      <td>0.189362</td>\n",
       "      <td>-0.516262</td>\n",
       "      <td>0.479169</td>\n",
       "      <td>-0.538940</td>\n",
       "      <td>0.303427</td>\n",
       "      <td>0.853987</td>\n",
       "      <td>-1.146935</td>\n",
       "      <td>-1.289083</td>\n",
       "    </tr>\n",
       "  </tbody>\n",
       "</table>\n",
       "</div>"
      ],
      "text/plain": [
       "   symboling  num_doors  wheel_base    length     width    height  \\\n",
       "0   1.782215  -1.172839   -1.678015 -0.442872 -0.839080 -2.117092   \n",
       "1   1.782215  -1.172839   -1.678015 -0.442872 -0.839080 -2.117092   \n",
       "2   0.163544  -1.172839   -0.719041 -0.250543 -0.184200 -0.613816   \n",
       "3   0.972880   0.848214    0.142410  0.182198  0.143240  0.179580   \n",
       "4   0.972880   0.848214    0.077395  0.182198  0.236794  0.179580   \n",
       "\n",
       "   curb_weight  num_cylinders  engine_size      bore    stroke  \\\n",
       "0    -0.025646      -0.410180     0.045098  0.511697 -1.803495   \n",
       "1    -0.025646      -0.410180     0.045098  0.511697 -1.803495   \n",
       "2     0.496473       1.544506     0.574066 -2.388614  0.701095   \n",
       "3    -0.426254      -0.410180    -0.459826 -0.516262  0.479169   \n",
       "4     0.498371       0.567163     0.189362 -0.516262  0.479169   \n",
       "\n",
       "   compression_ratio  horsepower  peak_rpm  city_mpg  highway_mpg  \n",
       "0          -0.287525    0.198054 -0.212806 -0.677292    -0.555613  \n",
       "1          -0.287525    0.198054 -0.212806 -0.677292    -0.555613  \n",
       "2          -0.287525    1.330822 -0.212806 -0.990387    -0.702307  \n",
       "3          -0.036110   -0.039037  0.853987 -0.207649    -0.115531  \n",
       "4          -0.538940    0.303427  0.853987 -1.146935    -1.289083  "
      ]
     },
     "execution_count": 36,
     "metadata": {},
     "output_type": "execute_result"
    }
   ],
   "source": [
    "data[possible_features].head()"
   ]
  },
  {
   "cell_type": "markdown",
   "metadata": {},
   "source": [
    "## Univariate KNN models\n",
    "\n",
    "We start by training and testing KNN models that are based on a single feature (univariate). This will help us setup a workflow and, more importantly, understand the features better."
   ]
  },
  {
   "cell_type": "code",
   "execution_count": 42,
   "metadata": {
    "collapsed": false
   },
   "outputs": [],
   "source": [
    "from numpy.random import permutation\n",
    "from math import floor, sqrt\n",
    "from sklearn.neighbors import KNeighborsRegressor\n",
    "from sklearn.metrics import mean_squared_error\n",
    "\n",
    "def knn_train_test(df=data, feature='highway_mpg', target='price'):\n",
    "    data_copy = df[[feature, target]].copy()\n",
    "    nr_rows = data_copy.shape[0]\n",
    "    train_prop = 0.9\n",
    "    data_copy = data_copy.iloc[permutation(nr_rows),:]\n",
    "    \n",
    "    train = data_copy.iloc[:floor(nr_rows * train_prop)]\n",
    "    test = data_copy.iloc[floor(nr_rows * train_prop):]\n",
    "    \n",
    "    knn = KNeighborsRegressor(n_neighbors=5, algorithm='auto')\n",
    "    knn.fit(train[[feature]], train[target])\n",
    "    \n",
    "    predictions = knn.predict(test[feature])\n",
    "    return sqrt(mean_squared_error(predictions, test[target]))"
   ]
  },
  {
   "cell_type": "code",
   "execution_count": null,
   "metadata": {
    "collapsed": true
   },
   "outputs": [],
   "source": []
  }
 ],
 "metadata": {
  "kernelspec": {
   "display_name": "Python 3",
   "language": "python",
   "name": "python3"
  },
  "language_info": {
   "codemirror_mode": {
    "name": "ipython",
    "version": 3
   },
   "file_extension": ".py",
   "mimetype": "text/x-python",
   "name": "python",
   "nbconvert_exporter": "python",
   "pygments_lexer": "ipython3",
   "version": "3.4.3"
  }
 },
 "nbformat": 4,
 "nbformat_minor": 2
}
